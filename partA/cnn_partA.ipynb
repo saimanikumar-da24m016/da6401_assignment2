{
 "cells": [
  {
   "cell_type": "code",
   "execution_count": null,
   "metadata": {},
   "outputs": [],
   "source": [
    "#%% [code]\n",
    "import torch\n",
    "import torch.nn as nn\n",
    "import torch.nn.functional as F\n",
    "import torchvision.transforms as transforms\n",
    "import torchvision.datasets as datasets\n",
    "from torch.utils.data import DataLoader, Subset\n",
    "import pytorch_lightning as pl\n",
    "from pytorch_lightning.loggers import WandbLogger\n",
    "import numpy as np\n",
    "from collections import defaultdict\n",
    "\n",
    "# Set up wandb logger\n",
    "wandb_logger = WandbLogger(project=\"da6401_assignment2_partA\")\n",
    "\n",
    "# Configuration parameters (you can sweep these later with wandb)\n",
    "config = {\n",
    "    \"conv_filters\": [32, 64, 128, 256, 512],\n",
    "    \"conv_kernel_sizes\": [3, 3, 3, 3, 3],\n",
    "    \"dense_neurons\": 256,\n",
    "    \"num_classes\": 10,\n",
    "    \"activation\": \"relu\",   # options: relu, gelu, silu, mish\n",
    "    \"batch_size\": 32,\n",
    "    \"epochs\": 10,\n",
    "    \"learning_rate\": 1e-3,\n",
    "    \"img_size\": 128  # input image size: 128x128\n",
    "}\n",
    "\n",
    "#%% [code]\n",
    "class LitCNN(pl.LightningModule):\n",
    "    def __init__(self, config):\n",
    "        super(LitCNN, self).__init__()\n",
    "        self.save_hyperparameters(config)\n",
    "        self.config = config\n",
    "        \n",
    "        self.activation = self._get_activation(config[\"activation\"])\n",
    "        in_channels = 3\n",
    "        conv_layers = []\n",
    "        # Build 5 conv - activation - maxpool blocks\n",
    "        for out_channels, k in zip(config[\"conv_filters\"], config[\"conv_kernel_sizes\"]):\n",
    "            conv_layers.append(nn.Conv2d(in_channels, out_channels, kernel_size=k, padding=k//2))\n",
    "            conv_layers.append(self._get_activation(config[\"activation\"]))\n",
    "            conv_layers.append(nn.MaxPool2d(kernel_size=2))\n",
    "            in_channels = out_channels\n",
    "        self.conv = nn.Sequential(*conv_layers)\n",
    "        \n",
    "        # Calculate flattened dimension after conv layers\n",
    "        final_size = config[\"img_size\"] // (2 ** 5)  # 5 max pooling layers\n",
    "        self.flatten_dim = config[\"conv_filters\"][-1] * final_size * final_size\n",
    "        \n",
    "        # Dense layers\n",
    "        self.fc1 = nn.Linear(self.flatten_dim, config[\"dense_neurons\"])\n",
    "        self.fc2 = nn.Linear(config[\"dense_neurons\"], config[\"num_classes\"])\n",
    "\n",
    "    def _get_activation(self, act):\n",
    "        act = act.lower()\n",
    "        if act == 'relu':\n",
    "            return nn.ReLU()\n",
    "        elif act == 'gelu':\n",
    "            return nn.GELU()\n",
    "        elif act == 'silu':\n",
    "            return nn.SiLU()\n",
    "        elif act == 'mish':\n",
    "            return nn.Mish()\n",
    "        else:\n",
    "            raise ValueError(f\"Unsupported activation: {act}\")\n",
    "\n",
    "    def forward(self, x):\n",
    "        x = self.conv(x)\n",
    "        x = x.view(x.size(0), -1)  # flatten\n",
    "        x = self.fc1(x)\n",
    "        x = self._get_activation(self.config[\"activation\"])(x)\n",
    "        x = self.fc2(x)\n",
    "        return x\n",
    "\n",
    "    def training_step(self, batch, batch_idx):\n",
    "        images, labels = batch\n",
    "        outputs = self(images)\n",
    "        loss = F.cross_entropy(outputs, labels)\n",
    "        acc = (outputs.argmax(dim=1) == labels).float().mean()\n",
    "        self.log(\"train_loss\", loss, prog_bar=True)\n",
    "        self.log(\"train_acc\", acc, prog_bar=True)\n",
    "        return loss\n",
    "\n",
    "    def validation_step(self, batch, batch_idx):\n",
    "        images, labels = batch\n",
    "        outputs = self(images)\n",
    "        loss = F.cross_entropy(outputs, labels)\n",
    "        acc = (outputs.argmax(dim=1) == labels).float().mean()\n",
    "        self.log(\"val_loss\", loss, prog_bar=True)\n",
    "        self.log(\"val_acc\", acc, prog_bar=True)\n",
    "\n",
    "    def configure_optimizers(self):\n",
    "        optimizer = torch.optim.Adam(self.parameters(), lr=self.config[\"learning_rate\"])\n",
    "        return optimizer\n",
    "\n",
    "#%% [code]\n",
    "# Data transforms\n",
    "transform = transforms.Compose([\n",
    "    transforms.Resize((config[\"img_size\"], config[\"img_size\"])),\n",
    "    transforms.ToTensor(),\n",
    "    transforms.Normalize(mean=[0.485, 0.456, 0.406],\n",
    "                         std=[0.229, 0.224, 0.225])\n",
    "])\n",
    "\n",
    "#%% [code]\n",
    "# Prepare dataset (assumes a folder structure with sub-folders per class)\n",
    "# Update 'path/to/train' to your training dataset folder (e.g., iNaturalist train data)\n",
    "dataset = datasets.ImageFolder(root='path/to/train', transform=transform)\n",
    "\n",
    "# Stratified split: ensuring equal representation for each class\n",
    "class_indices = defaultdict(list)\n",
    "for idx, (_, label) in enumerate(dataset.samples):\n",
    "    class_indices[label].append(idx)\n",
    "\n",
    "train_indices = []\n",
    "val_indices = []\n",
    "for label, indices in class_indices.items():\n",
    "    indices = np.array(indices)\n",
    "    np.random.shuffle(indices)\n",
    "    split = int(0.8 * len(indices))\n",
    "    train_indices.extend(indices[:split])\n",
    "    val_indices.extend(indices[split:])\n",
    "\n",
    "train_dataset = Subset(dataset, train_indices)\n",
    "val_dataset = Subset(dataset, val_indices)\n",
    "\n",
    "train_loader = DataLoader(train_dataset, batch_size=config[\"batch_size\"], shuffle=True, num_workers=2)\n",
    "val_loader = DataLoader(val_dataset, batch_size=config[\"batch_size\"], shuffle=False, num_workers=2)\n",
    "\n",
    "#%% [code]\n",
    "# Instantiate the Lightning model\n",
    "model = LitCNN(config)\n",
    "\n",
    "#%% [code]\n",
    "# Train using PyTorch Lightning Trainer with wandb logger\n",
    "trainer = pl.Trainer(\n",
    "    max_epochs=config[\"epochs\"],\n",
    "    logger=wandb_logger,\n",
    "    accelerator=\"gpu\" if torch.cuda.is_available() else \"cpu\"\n",
    ")\n",
    "\n",
    "trainer.fit(model, train_dataloaders=train_loader, val_dataloaders=val_loader)\n",
    "\n",
    "#%% [code]\n",
    "# Save the model checkpoint locally\n",
    "trainer.save_checkpoint(\"litcnn_partA.ckpt\")\n"
   ]
  },
  {
   "cell_type": "code",
   "execution_count": 4,
   "metadata": {},
   "outputs": [
    {
     "name": "stderr",
     "output_type": "stream",
     "text": [
      "The cache for model files in Transformers v4.22.0 has been updated. Migrating your old cache. This is a one-time only operation. You can interrupt this and resume the migration later on by calling `transformers.utils.move_cache()`.\n"
     ]
    },
    {
     "data": {
      "application/vnd.jupyter.widget-view+json": {
       "model_id": "8d1e01c9852a479cb6c11dd253115c12",
       "version_major": 2,
       "version_minor": 0
      },
      "text/plain": [
       "0it [00:00, ?it/s]"
      ]
     },
     "metadata": {},
     "output_type": "display_data"
    }
   ],
   "source": [
    "#%% [code]\n",
    "import torch\n",
    "import torch.nn as nn\n",
    "import torch.nn.functional as F\n",
    "import torchvision.transforms as transforms\n",
    "import torchvision.datasets as datasets\n",
    "from torch.utils.data import DataLoader, Subset\n",
    "import pytorch_lightning as pl\n",
    "from pytorch_lightning.loggers import WandbLogger\n",
    "import numpy as np\n",
    "from collections import defaultdict"
   ]
  },
  {
   "cell_type": "code",
   "execution_count": 5,
   "metadata": {},
   "outputs": [
    {
     "data": {
      "text/plain": [
       "'cpu'"
      ]
     },
     "execution_count": 5,
     "metadata": {},
     "output_type": "execute_result"
    }
   ],
   "source": [
    "\"gpu\" if torch.cuda.is_available() else \"cpu\""
   ]
  },
  {
   "cell_type": "code",
   "execution_count": 6,
   "metadata": {},
   "outputs": [
    {
     "data": {
      "text/plain": [
       "False"
      ]
     },
     "execution_count": 6,
     "metadata": {},
     "output_type": "execute_result"
    }
   ],
   "source": [
    "torch.cuda.is_available()"
   ]
  }
 ],
 "metadata": {
  "kernelspec": {
   "display_name": "Python 3",
   "language": "python",
   "name": "python3"
  },
  "language_info": {
   "codemirror_mode": {
    "name": "ipython",
    "version": 3
   },
   "file_extension": ".py",
   "mimetype": "text/x-python",
   "name": "python",
   "nbconvert_exporter": "python",
   "pygments_lexer": "ipython3",
   "version": "3.9.5"
  }
 },
 "nbformat": 4,
 "nbformat_minor": 2
}
